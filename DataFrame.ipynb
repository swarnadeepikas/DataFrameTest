{
 "cells": [
  {
   "cell_type": "code",
   "execution_count": 0,
   "metadata": {
    "application/vnd.databricks.v1+cell": {
     "cellMetadata": {
      "byteLimit": 2048000,
      "rowLimit": 10000
     },
     "inputWidgets": {},
     "nuid": "229ef82d-a3b9-48cf-a2a0-16d5ba9bbcd0",
     "showTitle": false,
     "tableResultSettingsMap": {},
     "title": ""
    }
   },
   "outputs": [],
   "source": [
    "employee=[\n",
    "    (1, \"sura\", \"ABC Inc\", 60000, \"bangalore\", \"IT\"),\n",
    "    (2, \"venkat\", \"XYZ Corp\", 75000, \"hyderabad\", \"Sales\"),\n",
    "    (3, \"kohli\", \"Apple\", 55000, \"USA\", \"Finance\"),\n",
    "    (4, \"sachin\", \"Apple\", 70000, \"india\", \"Engineering\"),\n",
    "    (5, \"dhoni\", \"Amazon\", 65000, \"chennai\", \"Marketing\")\n",
    "]\n"
   ]
  },
  {
   "cell_type": "code",
   "execution_count": 0,
   "metadata": {
    "application/vnd.databricks.v1+cell": {
     "cellMetadata": {
      "byteLimit": 2048000,
      "rowLimit": 10000
     },
     "inputWidgets": {},
     "nuid": "fb5a776d-fc80-466a-89c5-d3f15e1e9aea",
     "showTitle": false,
     "tableResultSettingsMap": {},
     "title": ""
    }
   },
   "outputs": [],
   "source": [
    "schema_of_employee=StructType([\\\n",
    "StructField(\"id\",IntegerType(),True),\\\n",
    "StructField(\"name\",StringType(),True),\\\n",
    "StructField(\"company\",StringType(),True),\\\n",
    "StructField(\"salary\",IntegerType(),True),\\\n",
    "StructField(\"location\",StringType(),True),\\\n",
    "StructField(\"department\",StringType(),True),\\\n",
    "])"
   ]
  },
  {
   "cell_type": "code",
   "execution_count": 0,
   "metadata": {
    "application/vnd.databricks.v1+cell": {
     "cellMetadata": {
      "byteLimit": 2048000,
      "rowLimit": 10000
     },
     "inputWidgets": {},
     "nuid": "ea1e9e42-8c14-4c3f-9dd7-aa4074ecd52c",
     "showTitle": false,
     "tableResultSettingsMap": {},
     "title": ""
    }
   },
   "outputs": [],
   "source": [
    "from pyspark.sql.types import StructType,StructField, StringType, IntegerType"
   ]
  },
  {
   "cell_type": "code",
   "execution_count": 0,
   "metadata": {
    "application/vnd.databricks.v1+cell": {
     "cellMetadata": {
      "byteLimit": 2048000,
      "rowLimit": 10000
     },
     "inputWidgets": {},
     "nuid": "4940bdca-fa85-472a-803c-c21d4419df9f",
     "showTitle": false,
     "tableResultSettingsMap": {},
     "title": ""
    }
   },
   "outputs": [],
   "source": [
    "employeeDF=spark.createDataFrame(data=employee, schema=schema_of_employee)"
   ]
  },
  {
   "cell_type": "code",
   "execution_count": 0,
   "metadata": {
    "application/vnd.databricks.v1+cell": {
     "cellMetadata": {
      "byteLimit": 2048000,
      "rowLimit": 10000
     },
     "inputWidgets": {},
     "nuid": "5c147ddd-6550-4577-9c0a-e83e219cab13",
     "showTitle": false,
     "tableResultSettingsMap": {},
     "title": ""
    }
   },
   "outputs": [
    {
     "output_type": "stream",
     "name": "stdout",
     "output_type": "stream",
     "text": [
      "+---+------+--------+------+---------+-----------+\n| id|  name| company|salary| location| department|\n+---+------+--------+------+---------+-----------+\n|  1|  sura| ABC Inc| 60000|bangalore|         IT|\n|  2|venkat|XYZ Corp| 75000|hyderabad|      Sales|\n|  3| kohli|   Apple| 55000|      USA|    Finance|\n|  4|sachin|   Apple| 70000|    india|Engineering|\n|  5| dhoni|  Amazon| 65000|  chennai|  Marketing|\n+---+------+--------+------+---------+-----------+\n\n"
     ]
    }
   ],
   "source": [
    "employeeDF.show()"
   ]
  },
  {
   "cell_type": "code",
   "execution_count": 0,
   "metadata": {
    "application/vnd.databricks.v1+cell": {
     "cellMetadata": {
      "byteLimit": 2048000,
      "rowLimit": 10000
     },
     "inputWidgets": {},
     "nuid": "629099cc-3d41-4859-a8e5-87eaeeaac1cb",
     "showTitle": false,
     "tableResultSettingsMap": {},
     "title": ""
    }
   },
   "outputs": [
    {
     "output_type": "display_data",
     "data": {
      "text/html": [
       "<style scoped>\n",
       "  .table-result-container {\n",
       "    max-height: 300px;\n",
       "    overflow: auto;\n",
       "  }\n",
       "  table, th, td {\n",
       "    border: 1px solid black;\n",
       "    border-collapse: collapse;\n",
       "  }\n",
       "  th, td {\n",
       "    padding: 5px;\n",
       "  }\n",
       "  th {\n",
       "    text-align: left;\n",
       "  }\n",
       "</style><div class='table-result-container'><table class='table-result'><thead style='background-color: white'><tr><th>id</th><th>name</th><th>company</th><th>salary</th><th>location</th><th>department</th></tr></thead><tbody><tr><td>1</td><td>sura</td><td>ABC Inc</td><td>60000</td><td>bangalore</td><td>IT</td></tr><tr><td>2</td><td>venkat</td><td>XYZ Corp</td><td>75000</td><td>hyderabad</td><td>Sales</td></tr><tr><td>3</td><td>kohli</td><td>Apple</td><td>55000</td><td>USA</td><td>Finance</td></tr><tr><td>4</td><td>sachin</td><td>Apple</td><td>70000</td><td>india</td><td>Engineering</td></tr><tr><td>5</td><td>dhoni</td><td>Amazon</td><td>65000</td><td>chennai</td><td>Marketing</td></tr></tbody></table></div>"
      ]
     },
     "metadata": {
      "application/vnd.databricks.v1+output": {
       "addedWidgets": {},
       "aggData": [],
       "aggError": "",
       "aggOverflow": false,
       "aggSchema": [],
       "aggSeriesLimitReached": false,
       "aggType": "",
       "arguments": {},
       "columnCustomDisplayInfos": {},
       "data": [
        [
         1,
         "sura",
         "ABC Inc",
         60000,
         "bangalore",
         "IT"
        ],
        [
         2,
         "venkat",
         "XYZ Corp",
         75000,
         "hyderabad",
         "Sales"
        ],
        [
         3,
         "kohli",
         "Apple",
         55000,
         "USA",
         "Finance"
        ],
        [
         4,
         "sachin",
         "Apple",
         70000,
         "india",
         "Engineering"
        ],
        [
         5,
         "dhoni",
         "Amazon",
         65000,
         "chennai",
         "Marketing"
        ]
       ],
       "datasetInfos": [],
       "dbfsResultPath": null,
       "isJsonSchema": true,
       "metadata": {},
       "overflow": false,
       "plotOptions": {
        "customPlotOptions": {},
        "displayType": "table",
        "pivotAggregation": null,
        "pivotColumns": null,
        "xColumns": null,
        "yColumns": null
       },
       "removedWidgets": [],
       "schema": [
        {
         "metadata": "{}",
         "name": "id",
         "type": "\"integer\""
        },
        {
         "metadata": "{}",
         "name": "name",
         "type": "\"string\""
        },
        {
         "metadata": "{}",
         "name": "company",
         "type": "\"string\""
        },
        {
         "metadata": "{}",
         "name": "salary",
         "type": "\"integer\""
        },
        {
         "metadata": "{}",
         "name": "location",
         "type": "\"string\""
        },
        {
         "metadata": "{}",
         "name": "department",
         "type": "\"string\""
        }
       ],
       "type": "table"
      }
     },
     "output_type": "display_data"
    }
   ],
   "source": [
    "display(employeeDF)"
   ]
  },
  {
   "cell_type": "code",
   "execution_count": 0,
   "metadata": {
    "application/vnd.databricks.v1+cell": {
     "cellMetadata": {
      "byteLimit": 2048000,
      "rowLimit": 10000
     },
     "inputWidgets": {},
     "nuid": "e52ee6cb-bd80-4de8-a14a-98e58f090554",
     "showTitle": false,
     "tableResultSettingsMap": {},
     "title": ""
    }
   },
   "outputs": [],
   "source": [
    "filterDF=employeeDF.filter(employeeDF.salary>60000)"
   ]
  },
  {
   "cell_type": "code",
   "execution_count": 0,
   "metadata": {
    "application/vnd.databricks.v1+cell": {
     "cellMetadata": {
      "byteLimit": 2048000,
      "rowLimit": 10000
     },
     "inputWidgets": {},
     "nuid": "640aab0b-3980-42ab-bc66-e5170ffe1912",
     "showTitle": false,
     "tableResultSettingsMap": {},
     "title": ""
    }
   },
   "outputs": [
    {
     "output_type": "display_data",
     "data": {
      "text/html": [
       "<style scoped>\n",
       "  .table-result-container {\n",
       "    max-height: 300px;\n",
       "    overflow: auto;\n",
       "  }\n",
       "  table, th, td {\n",
       "    border: 1px solid black;\n",
       "    border-collapse: collapse;\n",
       "  }\n",
       "  th, td {\n",
       "    padding: 5px;\n",
       "  }\n",
       "  th {\n",
       "    text-align: left;\n",
       "  }\n",
       "</style><div class='table-result-container'><table class='table-result'><thead style='background-color: white'><tr><th>id</th><th>name</th><th>company</th><th>salary</th><th>location</th><th>department</th></tr></thead><tbody><tr><td>2</td><td>venkat</td><td>XYZ Corp</td><td>75000</td><td>hyderabad</td><td>Sales</td></tr><tr><td>4</td><td>sachin</td><td>Apple</td><td>70000</td><td>india</td><td>Engineering</td></tr><tr><td>5</td><td>dhoni</td><td>Amazon</td><td>65000</td><td>chennai</td><td>Marketing</td></tr></tbody></table></div>"
      ]
     },
     "metadata": {
      "application/vnd.databricks.v1+output": {
       "addedWidgets": {},
       "aggData": [],
       "aggError": "",
       "aggOverflow": false,
       "aggSchema": [],
       "aggSeriesLimitReached": false,
       "aggType": "",
       "arguments": {},
       "columnCustomDisplayInfos": {},
       "data": [
        [
         2,
         "venkat",
         "XYZ Corp",
         75000,
         "hyderabad",
         "Sales"
        ],
        [
         4,
         "sachin",
         "Apple",
         70000,
         "india",
         "Engineering"
        ],
        [
         5,
         "dhoni",
         "Amazon",
         65000,
         "chennai",
         "Marketing"
        ]
       ],
       "datasetInfos": [],
       "dbfsResultPath": null,
       "isJsonSchema": true,
       "metadata": {},
       "overflow": false,
       "plotOptions": {
        "customPlotOptions": {},
        "displayType": "table",
        "pivotAggregation": null,
        "pivotColumns": null,
        "xColumns": null,
        "yColumns": null
       },
       "removedWidgets": [],
       "schema": [
        {
         "metadata": "{}",
         "name": "id",
         "type": "\"integer\""
        },
        {
         "metadata": "{}",
         "name": "name",
         "type": "\"string\""
        },
        {
         "metadata": "{}",
         "name": "company",
         "type": "\"string\""
        },
        {
         "metadata": "{}",
         "name": "salary",
         "type": "\"integer\""
        },
        {
         "metadata": "{}",
         "name": "location",
         "type": "\"string\""
        },
        {
         "metadata": "{}",
         "name": "department",
         "type": "\"string\""
        }
       ],
       "type": "table"
      }
     },
     "output_type": "display_data"
    }
   ],
   "source": [
    "display(filterDF)"
   ]
  },
  {
   "cell_type": "code",
   "execution_count": 0,
   "metadata": {
    "application/vnd.databricks.v1+cell": {
     "cellMetadata": {
      "byteLimit": 2048000,
      "rowLimit": 10000
     },
     "inputWidgets": {},
     "nuid": "f22ba80e-8028-4a9f-9344-3ce8f606608a",
     "showTitle": false,
     "tableResultSettingsMap": {},
     "title": ""
    }
   },
   "outputs": [],
   "source": [
    "data = [\n",
    "    (1, \"Virat\", \"Math\", 85),\n",
    "    (2, \"Sachin\", \"Math\", 90),\n",
    "    (3, \"Rohit\", \"Science\", 75),\n",
    "    (4, \"Dhoni\", \"Science\", 80),\n",
    "    (5, \"Yuvraj\", \"Math\", None),       # Null value\n",
    "    (6, \"Hardik\", \"Math\", 90),       # Duplicate mark\n",
    "    (6, \"Hardik\", \"Math\", 90)        # Duplicate row\n",
    "]\n"
   ]
  },
  {
   "cell_type": "code",
   "execution_count": 0,
   "metadata": {
    "application/vnd.databricks.v1+cell": {
     "cellMetadata": {
      "byteLimit": 2048000,
      "rowLimit": 10000
     },
     "inputWidgets": {},
     "nuid": "0574b1e1-7a0f-4469-9bb5-f749b86d0095",
     "showTitle": false,
     "tableResultSettingsMap": {},
     "title": ""
    }
   },
   "outputs": [],
   "source": [
    "columns = [\"StudentID\", \"Name\", \"Subject\", \"Marks\"]"
   ]
  },
  {
   "cell_type": "code",
   "execution_count": 0,
   "metadata": {
    "application/vnd.databricks.v1+cell": {
     "cellMetadata": {
      "byteLimit": 2048000,
      "rowLimit": 10000
     },
     "inputWidgets": {},
     "nuid": "90b2d56c-830d-4fb9-a42e-b52577957a2d",
     "showTitle": false,
     "tableResultSettingsMap": {},
     "title": ""
    }
   },
   "outputs": [],
   "source": [
    "cricketdf = spark.createDataFrame(data, columns)"
   ]
  },
  {
   "cell_type": "code",
   "execution_count": 0,
   "metadata": {
    "application/vnd.databricks.v1+cell": {
     "cellMetadata": {
      "byteLimit": 2048000,
      "rowLimit": 10000
     },
     "inputWidgets": {},
     "nuid": "19c19bfc-b659-4a3e-aeaa-8a7c3d7c7cd3",
     "showTitle": false,
     "tableResultSettingsMap": {},
     "title": ""
    }
   },
   "outputs": [
    {
     "output_type": "display_data",
     "data": {
      "text/html": [
       "<style scoped>\n",
       "  .table-result-container {\n",
       "    max-height: 300px;\n",
       "    overflow: auto;\n",
       "  }\n",
       "  table, th, td {\n",
       "    border: 1px solid black;\n",
       "    border-collapse: collapse;\n",
       "  }\n",
       "  th, td {\n",
       "    padding: 5px;\n",
       "  }\n",
       "  th {\n",
       "    text-align: left;\n",
       "  }\n",
       "</style><div class='table-result-container'><table class='table-result'><thead style='background-color: white'><tr><th>StudentID</th><th>Name</th><th>Subject</th><th>Marks</th></tr></thead><tbody><tr><td>1</td><td>Virat</td><td>Math</td><td>85</td></tr><tr><td>2</td><td>Sachin</td><td>Math</td><td>90</td></tr><tr><td>3</td><td>Rohit</td><td>Science</td><td>75</td></tr><tr><td>4</td><td>Dhoni</td><td>Science</td><td>80</td></tr><tr><td>5</td><td>Yuvraj</td><td>Math</td><td>null</td></tr><tr><td>6</td><td>Hardik</td><td>Math</td><td>90</td></tr><tr><td>6</td><td>Hardik</td><td>Math</td><td>90</td></tr></tbody></table></div>"
      ]
     },
     "metadata": {
      "application/vnd.databricks.v1+output": {
       "addedWidgets": {},
       "aggData": [],
       "aggError": "",
       "aggOverflow": false,
       "aggSchema": [],
       "aggSeriesLimitReached": false,
       "aggType": "",
       "arguments": {},
       "columnCustomDisplayInfos": {},
       "data": [
        [
         1,
         "Virat",
         "Math",
         85
        ],
        [
         2,
         "Sachin",
         "Math",
         90
        ],
        [
         3,
         "Rohit",
         "Science",
         75
        ],
        [
         4,
         "Dhoni",
         "Science",
         80
        ],
        [
         5,
         "Yuvraj",
         "Math",
         null
        ],
        [
         6,
         "Hardik",
         "Math",
         90
        ],
        [
         6,
         "Hardik",
         "Math",
         90
        ]
       ],
       "datasetInfos": [],
       "dbfsResultPath": null,
       "isJsonSchema": true,
       "metadata": {},
       "overflow": false,
       "plotOptions": {
        "customPlotOptions": {},
        "displayType": "table",
        "pivotAggregation": null,
        "pivotColumns": null,
        "xColumns": null,
        "yColumns": null
       },
       "removedWidgets": [],
       "schema": [
        {
         "metadata": "{}",
         "name": "StudentID",
         "type": "\"long\""
        },
        {
         "metadata": "{}",
         "name": "Name",
         "type": "\"string\""
        },
        {
         "metadata": "{}",
         "name": "Subject",
         "type": "\"string\""
        },
        {
         "metadata": "{}",
         "name": "Marks",
         "type": "\"long\""
        }
       ],
       "type": "table"
      }
     },
     "output_type": "display_data"
    }
   ],
   "source": [
    "display(cricketdf)"
   ]
  },
  {
   "cell_type": "code",
   "execution_count": 0,
   "metadata": {
    "application/vnd.databricks.v1+cell": {
     "cellMetadata": {
      "byteLimit": 2048000,
      "rowLimit": 10000
     },
     "inputWidgets": {},
     "nuid": "881bb04f-3bbb-438d-9aa1-ef61227b3ee9",
     "showTitle": false,
     "tableResultSettingsMap": {},
     "title": ""
    }
   },
   "outputs": [
    {
     "output_type": "stream",
     "name": "stdout",
     "output_type": "stream",
     "text": [
      "root\n |-- StudentID: long (nullable = true)\n |-- Name: string (nullable = true)\n |-- Subject: string (nullable = true)\n |-- Marks: long (nullable = true)\n\n"
     ]
    }
   ],
   "source": [
    "cricketdf.printSchema()\n"
   ]
  },
  {
   "cell_type": "code",
   "execution_count": 0,
   "metadata": {
    "application/vnd.databricks.v1+cell": {
     "cellMetadata": {
      "byteLimit": 2048000,
      "rowLimit": 10000
     },
     "inputWidgets": {},
     "nuid": "973a77a8-8953-48b7-9a23-814fa553fd4f",
     "showTitle": false,
     "tableResultSettingsMap": {},
     "title": ""
    }
   },
   "outputs": [
    {
     "output_type": "stream",
     "name": "stdout",
     "output_type": "stream",
     "text": [
      "['StudentID', 'Name', 'Subject', 'Marks']\n"
     ]
    }
   ],
   "source": [
    "print(cricketdf.columns)\n"
   ]
  },
  {
   "cell_type": "code",
   "execution_count": 0,
   "metadata": {
    "application/vnd.databricks.v1+cell": {
     "cellMetadata": {
      "byteLimit": 2048000,
      "rowLimit": 10000
     },
     "inputWidgets": {},
     "nuid": "e77f9946-7d49-433b-b690-52ee3fbae4f4",
     "showTitle": false,
     "tableResultSettingsMap": {},
     "title": ""
    }
   },
   "outputs": [
    {
     "output_type": "stream",
     "name": "stdout",
     "output_type": "stream",
     "text": [
      "[('StudentID', 'bigint'), ('Name', 'string'), ('Subject', 'string'), ('Marks', 'bigint')]\n"
     ]
    }
   ],
   "source": [
    "print(cricketdf.dtypes)"
   ]
  },
  {
   "cell_type": "code",
   "execution_count": 0,
   "metadata": {
    "application/vnd.databricks.v1+cell": {
     "cellMetadata": {
      "byteLimit": 2048000,
      "rowLimit": 10000
     },
     "inputWidgets": {},
     "nuid": "a6133c82-7082-4611-ab71-4e2347a5fa60",
     "showTitle": false,
     "tableResultSettingsMap": {},
     "title": ""
    }
   },
   "outputs": [
    {
     "output_type": "stream",
     "name": "stdout",
     "output_type": "stream",
     "text": [
      "+---------+------+\n|StudentID|  Name|\n+---------+------+\n|        1| Virat|\n|        2|Sachin|\n|        3| Rohit|\n|        4| Dhoni|\n|        5|Yuvraj|\n|        6|Hardik|\n|        6|Hardik|\n+---------+------+\n\n"
     ]
    }
   ],
   "source": [
    "cricketdf.select(\"StudentID\", \"Name\").show()"
   ]
  },
  {
   "cell_type": "code",
   "execution_count": 0,
   "metadata": {
    "application/vnd.databricks.v1+cell": {
     "cellMetadata": {
      "byteLimit": 2048000,
      "rowLimit": 10000
     },
     "inputWidgets": {},
     "nuid": "fb698dbf-b90b-4f5f-a1d0-9a13659b8000",
     "showTitle": false,
     "tableResultSettingsMap": {},
     "title": ""
    }
   },
   "outputs": [
    {
     "output_type": "stream",
     "name": "stdout",
     "output_type": "stream",
     "text": [
      "+---------+--------+-------+-----+\n|StudentID|FullName|Subject|Marks|\n+---------+--------+-------+-----+\n|        1|   Virat|   Math|   85|\n|        2|  Sachin|   Math|   90|\n|        3|   Rohit|Science|   75|\n|        4|   Dhoni|Science|   80|\n|        5|  Yuvraj|   Math| NULL|\n|        6|  Hardik|   Math|   90|\n|        6|  Hardik|   Math|   90|\n+---------+--------+-------+-----+\n\n"
     ]
    }
   ],
   "source": [
    "cricketdf.withColumnRenamed(\"Name\", \"FullName\").show()"
   ]
  },
  {
   "cell_type": "code",
   "execution_count": 0,
   "metadata": {
    "application/vnd.databricks.v1+cell": {
     "cellMetadata": {
      "byteLimit": 2048000,
      "rowLimit": 10000
     },
     "inputWidgets": {},
     "nuid": "0c35d956-27c9-4c8e-bd24-b598e1ff0824",
     "showTitle": false,
     "tableResultSettingsMap": {},
     "title": ""
    }
   },
   "outputs": [
    {
     "output_type": "stream",
     "name": "stdout",
     "output_type": "stream",
     "text": [
      "+---------+--------+-------+-----+\n|StudentID|FullName|Subject|Marks|\n+---------+--------+-------+-----+\n|        1|   Virat|   Math|   85|\n|        2|  Sachin|   Math|   90|\n|        3|   Rohit|Science|   75|\n|        4|   Dhoni|Science|   80|\n|        5|  Yuvraj|   Math| NULL|\n|        6|  Hardik|   Math|   90|\n|        6|  Hardik|   Math|   90|\n+---------+--------+-------+-----+\n\n"
     ]
    }
   ],
   "source": [
    "newdf=cricketdf.withColumnRenamed(\"Name\", \"FullName\")\n",
    "newdf.show()"
   ]
  },
  {
   "cell_type": "code",
   "execution_count": 0,
   "metadata": {
    "application/vnd.databricks.v1+cell": {
     "cellMetadata": {
      "byteLimit": 2048000,
      "rowLimit": 10000
     },
     "inputWidgets": {},
     "nuid": "5f769992-a06c-4449-93fc-2bfb3a531406",
     "showTitle": false,
     "tableResultSettingsMap": {},
     "title": ""
    }
   },
   "outputs": [
    {
     "output_type": "display_data",
     "data": {
      "text/html": [
       "<style scoped>\n",
       "  .table-result-container {\n",
       "    max-height: 300px;\n",
       "    overflow: auto;\n",
       "  }\n",
       "  table, th, td {\n",
       "    border: 1px solid black;\n",
       "    border-collapse: collapse;\n",
       "  }\n",
       "  th, td {\n",
       "    padding: 5px;\n",
       "  }\n",
       "  th {\n",
       "    text-align: left;\n",
       "  }\n",
       "</style><div class='table-result-container'><table class='table-result'><thead style='background-color: white'><tr><th>StudentID</th><th>FullName</th><th>Subject</th><th>Marks</th><th>NewMarks</th></tr></thead><tbody><tr><td>1</td><td>Virat</td><td>Math</td><td>85</td><td>90</td></tr><tr><td>2</td><td>Sachin</td><td>Math</td><td>90</td><td>95</td></tr><tr><td>3</td><td>Rohit</td><td>Science</td><td>75</td><td>80</td></tr><tr><td>4</td><td>Dhoni</td><td>Science</td><td>80</td><td>85</td></tr><tr><td>5</td><td>Yuvraj</td><td>Math</td><td>null</td><td>null</td></tr><tr><td>6</td><td>Hardik</td><td>Math</td><td>90</td><td>95</td></tr><tr><td>6</td><td>Hardik</td><td>Math</td><td>90</td><td>95</td></tr></tbody></table></div>"
      ]
     },
     "metadata": {
      "application/vnd.databricks.v1+output": {
       "addedWidgets": {},
       "aggData": [],
       "aggError": "",
       "aggOverflow": false,
       "aggSchema": [],
       "aggSeriesLimitReached": false,
       "aggType": "",
       "arguments": {},
       "columnCustomDisplayInfos": {},
       "data": [
        [
         1,
         "Virat",
         "Math",
         85,
         90
        ],
        [
         2,
         "Sachin",
         "Math",
         90,
         95
        ],
        [
         3,
         "Rohit",
         "Science",
         75,
         80
        ],
        [
         4,
         "Dhoni",
         "Science",
         80,
         85
        ],
        [
         5,
         "Yuvraj",
         "Math",
         null,
         null
        ],
        [
         6,
         "Hardik",
         "Math",
         90,
         95
        ],
        [
         6,
         "Hardik",
         "Math",
         90,
         95
        ]
       ],
       "datasetInfos": [],
       "dbfsResultPath": null,
       "isJsonSchema": true,
       "metadata": {},
       "overflow": false,
       "plotOptions": {
        "customPlotOptions": {},
        "displayType": "table",
        "pivotAggregation": null,
        "pivotColumns": null,
        "xColumns": null,
        "yColumns": null
       },
       "removedWidgets": [],
       "schema": [
        {
         "metadata": "{}",
         "name": "StudentID",
         "type": "\"long\""
        },
        {
         "metadata": "{}",
         "name": "FullName",
         "type": "\"string\""
        },
        {
         "metadata": "{}",
         "name": "Subject",
         "type": "\"string\""
        },
        {
         "metadata": "{}",
         "name": "Marks",
         "type": "\"long\""
        },
        {
         "metadata": "{}",
         "name": "NewMarks",
         "type": "\"long\""
        }
       ],
       "type": "table"
      }
     },
     "output_type": "display_data"
    }
   ],
   "source": [
    "addnewcolumndf=newdf.withColumn(\"NewMarks\", newdf.Marks + 5)\n",
    "display(addnewcolumndf)"
   ]
  },
  {
   "cell_type": "code",
   "execution_count": 0,
   "metadata": {
    "application/vnd.databricks.v1+cell": {
     "cellMetadata": {
      "byteLimit": 2048000,
      "rowLimit": 10000
     },
     "inputWidgets": {},
     "nuid": "667b72a7-a735-4ea0-93be-c1a04fece73b",
     "showTitle": false,
     "tableResultSettingsMap": {},
     "title": ""
    }
   },
   "outputs": [
    {
     "output_type": "display_data",
     "data": {
      "text/html": [
       "<style scoped>\n",
       "  .table-result-container {\n",
       "    max-height: 300px;\n",
       "    overflow: auto;\n",
       "  }\n",
       "  table, th, td {\n",
       "    border: 1px solid black;\n",
       "    border-collapse: collapse;\n",
       "  }\n",
       "  th, td {\n",
       "    padding: 5px;\n",
       "  }\n",
       "  th {\n",
       "    text-align: left;\n",
       "  }\n",
       "</style><div class='table-result-container'><table class='table-result'><thead style='background-color: white'><tr><th>StudentID</th><th>FullName</th><th>Subject</th><th>NewMarks</th></tr></thead><tbody><tr><td>1</td><td>Virat</td><td>Math</td><td>90</td></tr><tr><td>2</td><td>Sachin</td><td>Math</td><td>95</td></tr><tr><td>3</td><td>Rohit</td><td>Science</td><td>80</td></tr><tr><td>4</td><td>Dhoni</td><td>Science</td><td>85</td></tr><tr><td>5</td><td>Yuvraj</td><td>Math</td><td>null</td></tr><tr><td>6</td><td>Hardik</td><td>Math</td><td>95</td></tr><tr><td>6</td><td>Hardik</td><td>Math</td><td>95</td></tr></tbody></table></div>"
      ]
     },
     "metadata": {
      "application/vnd.databricks.v1+output": {
       "addedWidgets": {},
       "aggData": [],
       "aggError": "",
       "aggOverflow": false,
       "aggSchema": [],
       "aggSeriesLimitReached": false,
       "aggType": "",
       "arguments": {},
       "columnCustomDisplayInfos": {},
       "data": [
        [
         1,
         "Virat",
         "Math",
         90
        ],
        [
         2,
         "Sachin",
         "Math",
         95
        ],
        [
         3,
         "Rohit",
         "Science",
         80
        ],
        [
         4,
         "Dhoni",
         "Science",
         85
        ],
        [
         5,
         "Yuvraj",
         "Math",
         null
        ],
        [
         6,
         "Hardik",
         "Math",
         95
        ],
        [
         6,
         "Hardik",
         "Math",
         95
        ]
       ],
       "datasetInfos": [],
       "dbfsResultPath": null,
       "isJsonSchema": true,
       "metadata": {},
       "overflow": false,
       "plotOptions": {
        "customPlotOptions": {},
        "displayType": "table",
        "pivotAggregation": null,
        "pivotColumns": null,
        "xColumns": null,
        "yColumns": null
       },
       "removedWidgets": [],
       "schema": [
        {
         "metadata": "{}",
         "name": "StudentID",
         "type": "\"long\""
        },
        {
         "metadata": "{}",
         "name": "FullName",
         "type": "\"string\""
        },
        {
         "metadata": "{}",
         "name": "Subject",
         "type": "\"string\""
        },
        {
         "metadata": "{}",
         "name": "NewMarks",
         "type": "\"long\""
        }
       ],
       "type": "table"
      }
     },
     "output_type": "display_data"
    }
   ],
   "source": [
    "dropdf=addnewcolumndf.drop(\"Marks\")\n",
    "display(dropdf)\n"
   ]
  },
  {
   "cell_type": "code",
   "execution_count": 0,
   "metadata": {
    "application/vnd.databricks.v1+cell": {
     "cellMetadata": {
      "byteLimit": 2048000,
      "rowLimit": 10000
     },
     "inputWidgets": {},
     "nuid": "a4c3f4f0-b359-4c33-a7fe-94643aa34cab",
     "showTitle": false,
     "tableResultSettingsMap": {},
     "title": ""
    }
   },
   "outputs": [
    {
     "output_type": "stream",
     "name": "stdout",
     "output_type": "stream",
     "text": [
      "+---------+--------+-------+--------+\n|StudentID|FullName|Subject|NewMarks|\n+---------+--------+-------+--------+\n|        3|   Rohit|Science|      80|\n|        4|   Dhoni|Science|      85|\n+---------+--------+-------+--------+\n\n"
     ]
    }
   ],
   "source": [
    "dropdf.filter(dropdf.NewMarks < 90).show()"
   ]
  },
  {
   "cell_type": "code",
   "execution_count": 0,
   "metadata": {
    "application/vnd.databricks.v1+cell": {
     "cellMetadata": {
      "byteLimit": 2048000,
      "rowLimit": 10000
     },
     "inputWidgets": {},
     "nuid": "6bec219a-f42c-4d58-a32c-c5725ddbbdff",
     "showTitle": false,
     "tableResultSettingsMap": {},
     "title": ""
    }
   },
   "outputs": [
    {
     "output_type": "stream",
     "name": "stdout",
     "output_type": "stream",
     "text": [
      "+---------+------+-------+-----+\n|StudentID|  Name|Subject|Marks|\n+---------+------+-------+-----+\n|        1| Virat|   Math|   85|\n|        2|Sachin|   Math|   90|\n|        3| Rohit|Science|   75|\n|        4| Dhoni|Science|   80|\n|        5|Yuvraj|   Math| NULL|\n|        6|Hardik|   Math|   90|\n|        6|Hardik|   Math|   90|\n+---------+------+-------+-----+\n\n"
     ]
    }
   ],
   "source": [
    "cricketdf.show()"
   ]
  }
 ],
 "metadata": {
  "application/vnd.databricks.v1+notebook": {
   "computePreferences": null,
   "dashboards": [],
   "environmentMetadata": {
    "base_environment": "",
    "environment_version": "3"
   },
   "inputWidgetPreferences": null,
   "language": "python",
   "notebookMetadata": {
    "pythonIndentUnit": 4
   },
   "notebookName": "DataFrame",
   "widgets": {}
  },
  "language_info": {
   "name": "python"
  }
 },
 "nbformat": 4,
 "nbformat_minor": 0
}